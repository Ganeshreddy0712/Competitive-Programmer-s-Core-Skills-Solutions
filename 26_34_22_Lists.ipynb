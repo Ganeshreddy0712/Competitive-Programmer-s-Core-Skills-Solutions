{
  "nbformat": 4,
  "nbformat_minor": 0,
  "metadata": {
    "colab": {
      "name": "26/34/22 - Lists",
      "provenance": [],
      "authorship_tag": "ABX9TyO2V9dHQtHuXB85SBfKBs8N",
      "include_colab_link": true
    },
    "kernelspec": {
      "name": "python3",
      "display_name": "Python 3"
    },
    "language_info": {
      "name": "python"
    }
  },
  "cells": [
    {
      "cell_type": "markdown",
      "metadata": {
        "id": "view-in-github",
        "colab_type": "text"
      },
      "source": [
        "<a href=\"https://colab.research.google.com/github/Ganeshreddy0712/Competitive-Programmer-s-Core-Skills-Solutions/blob/master/26_34_22_Lists.ipynb\" target=\"_parent\"><img src=\"https://colab.research.google.com/assets/colab-badge.svg\" alt=\"Open In Colab\"/></a>"
      ]
    },
    {
      "cell_type": "markdown",
      "source": [
        "#ARRAYS"
      ],
      "metadata": {
        "id": "A2D3X85eULJA"
      }
    },
    {
      "cell_type": "code",
      "source": [
        "#inseting elements into list.\n",
        "\n",
        "x=[7,3,45,18,0]\n",
        "y=[23,34,45,56,67,78]\n",
        "x.append(5)\n",
        "print(x)\n",
        "print(type(x))\n",
        "x.insert(2,\"banana\")\n",
        "print(x)\n",
        "print(x[-1])\n",
        "x.remove(x[3])\n",
        "print(x)\n",
        "x.pop(4)\n",
        "print(x)\n",
        "x.pop()\n",
        "print(x)\n",
        "del x[2]\n",
        "print(x)  \n",
        "print(len(x))\n",
        "x.extend(y)\n",
        "print(x)"
      ],
      "metadata": {
        "colab": {
          "base_uri": "https://localhost:8080/"
        },
        "id": "GFs5CxdtUNPX",
        "outputId": "33b1c221-f56b-440b-fcb9-9f34e0c51d10"
      },
      "execution_count": 38,
      "outputs": [
        {
          "output_type": "stream",
          "name": "stdout",
          "text": [
            "[7, 3, 45, 18, 0, 5]\n",
            "<class 'list'>\n",
            "[7, 3, 'banana', 45, 18, 0, 5]\n",
            "5\n",
            "[7, 3, 'banana', 18, 0, 5]\n",
            "[7, 3, 'banana', 18, 5]\n",
            "[7, 3, 'banana', 18]\n",
            "[7, 3, 18]\n",
            "3\n",
            "[7, 3, 18, 23, 34, 45, 56, 67, 78]\n"
          ]
        }
      ]
    }
  ]
}